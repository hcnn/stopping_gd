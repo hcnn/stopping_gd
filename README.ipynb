{
 "cells": [
  {
   "cell_type": "raw",
   "metadata": {},
   "source": [
    "---\n",
    "title: \"stopping_gd\"\n",
    "date: 2018-08-29T17:00:00+02:00\n",
    "draft: false\n",
    "tags: [\"stopping_gd\", \"stopping criteria\", \"termination criteria\", \"gradient descent\", \"numerical optimization\"]\n",
    "author: \"Ulf Hamster\"\n",
    "---"
   ]
  },
  {
   "cell_type": "markdown",
   "metadata": {},
   "source": [
    "### Gradient Descent\n",
    "The main property of gradient descent is that the target function shrinks at each iteration\n",
    "\n",
    "$$\n",
    "f(x_{k+1}) < f(x_k)\n",
    "$$\n",
    "\n",
    "The algorithm happens not converge any further if\n",
    "\n",
    "$$\n",
    "f(x_{k+1}) \\geq f(x_k)\n",
    "$$\n",
    "\n",
    "If the improvement has to be at least $TolFun>0$ then the stopping criteria is\n",
    "\n",
    "$$\n",
    "f(x_{k+1}) + TolFun \\geq f(x_k)\n",
    "$$"
   ]
  },
  {
   "cell_type": "markdown",
   "metadata": {},
   "source": [
    "### C Implementation"
   ]
  },
  {
   "cell_type": "code",
   "execution_count": 1,
   "metadata": {
    "ExecuteTime": {
     "end_time": "2018-08-29T15:47:57.543391Z",
     "start_time": "2018-08-29T15:47:57.411094Z"
    }
   },
   "outputs": [
    {
     "name": "stdout",
     "output_type": "stream",
     "text": [
      "false -> proceed\n",
      "true -> stop\n",
      "true -> stop\n"
     ]
    }
   ],
   "source": [
    "#include <stdio.h> //printf\n",
    "#include <stdbool.h> //bool\n",
    "\n",
    "/* true  = yes,stop\n",
    " * false = no,proceed */\n",
    "bool stopping_gd(double f1, double f0, double tolfun){\n",
    "    return ((f1 + tolfun) >= f0) ? true : false;\n",
    "}\n",
    "\n",
    "int main(){\n",
    "    double tolfun, f0, f1;\n",
    "    bool res;\n",
    "    \n",
    "    f1 = 1.15;\n",
    "    f0 = 1.18;\n",
    "    tolfun = 0.02;\n",
    "    res = stopping_gd(f1, f0, tolfun);\n",
    "    printf(\"%s\\n\", res ? \"true -> stop\" : \"false -> proceed\");\n",
    "\n",
    "    f1 = 1.15;\n",
    "    f0 = 1.17;\n",
    "    tolfun = 0.02;\n",
    "    res = stopping_gd(f1, f0, tolfun);\n",
    "    printf(\"%s\\n\", res ? \"true -> stop\" : \"false -> proceed\");\n",
    "\n",
    "    f1 = 1.15;\n",
    "    f0 = 1.16;\n",
    "    tolfun = 0.02;\n",
    "    res = stopping_gd(f1, f0, tolfun);\n",
    "    printf(\"%s\\n\", res ? \"true -> stop\" : \"false -> proceed\");\n",
    "}"
   ]
  }
 ],
 "metadata": {
  "kernelspec": {
   "display_name": "C",
   "language": "c",
   "name": "c"
  },
  "language_info": {
   "file_extension": ".c",
   "mimetype": "text/plain",
   "name": "c"
  },
  "toc": {
   "base_numbering": 1,
   "nav_menu": {},
   "number_sections": true,
   "sideBar": true,
   "skip_h1_title": false,
   "title_cell": "Table of Contents",
   "title_sidebar": "Contents",
   "toc_cell": false,
   "toc_position": {},
   "toc_section_display": true,
   "toc_window_display": false
  },
  "varInspector": {
   "cols": {
    "lenName": 16,
    "lenType": 16,
    "lenVar": 40
   },
   "kernels_config": {
    "python": {
     "delete_cmd_postfix": "",
     "delete_cmd_prefix": "del ",
     "library": "var_list.py",
     "varRefreshCmd": "print(var_dic_list())"
    },
    "r": {
     "delete_cmd_postfix": ") ",
     "delete_cmd_prefix": "rm(",
     "library": "var_list.r",
     "varRefreshCmd": "cat(var_dic_list()) "
    }
   },
   "types_to_exclude": [
    "module",
    "function",
    "builtin_function_or_method",
    "instance",
    "_Feature"
   ],
   "window_display": false
  }
 },
 "nbformat": 4,
 "nbformat_minor": 2
}
